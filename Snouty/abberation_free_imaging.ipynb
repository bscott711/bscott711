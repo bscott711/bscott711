{
 "cells": [
  {
   "attachments": {},
   "cell_type": "markdown",
   "metadata": {},
   "source": [
    "Maxwell showed in 1858 that the magnification needs to equal the ratio of refractive indices to have a perfect 3D imaging system\n",
    "$$\n",
    "|M| = \\frac{n_1}{n_2}\n",
    "$$\n",
    "Abbe Sine Condition for aberration free imaging:\n",
    "M is the magnification of the system\n",
    "$$\n",
    "M = \\frac{\\sin\\alpha_o}{\\sin\\alpha_i}=\\frac{\\sin\\beta_o}{\\sin\\beta_i}\n",
    "$$\n",
    "\n",
    "Herschel's Condition for aberration free imaging:\n",
    "H is the axial magnification\n",
    "$$\n",
    "H = \\frac{n_o \\sin^2 (\\frac{\\theta_o}{2})}{n_i \\sin^2(\\frac{\\theta_i}{2})}\n",
    "$$\n",
    "\n"
   ]
  },
  {
   "attachments": {},
   "cell_type": "markdown",
   "metadata": {},
   "source": [
    "We can calculate the overall system magnification for the first 2 microscopes that satisfies the Sine Condition and Herschel's Conditions.<br> <br>In snouty n<sub>2</sub> is air so R.I = 1, and people have just left it off. For others like SCAPE, n<sub>2</sub> may also be water. (1.33). <br>It is better to be explicit than implicit.\n",
    "$$\n",
    "M = \\frac{n_1}{n_2} = \\frac{M_1SL_2TL_1}{M_2SL_1TL_2}\n",
    "$$\n",
    "We can solve for an unknown tube length, given the Objectives, refractive indicies and other 3 lenses in the scan relay.\n",
    "$$\n",
    "TL_2=\\frac{M_1n_2SL_2TL_1}{M_2n_1SL_1}\n",
    "$$\n",
    "\n"
   ]
  },
  {
   "cell_type": "code",
   "execution_count": 7,
   "metadata": {},
   "outputs": [
    {
     "name": "stdout",
     "output_type": "stream",
     "text": [
      "System Magnification:  1.3330000000000002\n",
      "Need TL_2=  375.0937734433608\n"
     ]
    }
   ],
   "source": [
    "# 100x Oil Objective and 40x Air into Snouty, with RI = 1.33 (Water matched)\n",
    "m1 = 100\n",
    "t1 = 200\n",
    "s1 = 75\n",
    "s2 = 75\n",
    "m2 = 40\n",
    "r1 = 1.3330 # water\n",
    "r2 = 1 #air\n",
    "\n",
    "tl2 = (m1*r2*s2*t1)/(r1*m2*s1)\n",
    "H = (m1*s2*t1)/(m2*s1*tl2)\n",
    "print('System Magnification: ', H)\n",
    "print(\"Need TL_2= \", tl2)"
   ]
  },
  {
   "attachments": {},
   "cell_type": "markdown",
   "metadata": {},
   "source": [
    "## Luckily for us. We can use two 750mm lenses back to back to make a 375mm lens.\n",
    "\n",
    "For two thin lenses if collimated light enters from the left to right it will be focused at the 'back focal length' Given by the following:\n",
    "$$\n",
    "bfl = \\frac{f_2*(d-f_1)}{d-(f_1+f_2)}\n",
    "$$\n",
    "\n",
    "The effective focal length is given by the following:\n",
    "$$\n",
    "EFL = bfl + d\n",
    "$$\n",
    "\n",
    "This tells us how far apart the lenses will be and where the focus of the overall lens pair is."
   ]
  },
  {
   "cell_type": "code",
   "execution_count": 96,
   "metadata": {},
   "outputs": [
    {
     "name": "stdout",
     "output_type": "stream",
     "text": [
      "EFL for 2x 750 mm as Plossl: 375.0 mm\n"
     ]
    }
   ],
   "source": [
    "f1 = 750\n",
    "f2 = 750\n",
    "d = 0\n",
    "\n",
    "bfl = f2*(d-f1)/(d-(f1+f2))\n",
    "print(f'EFL for 2x 750 mm as Plossl: {bfl} mm')"
   ]
  },
  {
   "cell_type": "markdown",
   "metadata": {},
   "source": [
    "## Plossl-style arrangement to make compound lens (d=0)"
   ]
  },
  {
   "cell_type": "code",
   "execution_count": 93,
   "metadata": {},
   "outputs": [
    {
     "name": "stdout",
     "output_type": "stream",
     "text": [
      "Matched Focal Lengths:\n",
      "       L1     L2    EFD\n",
      "0    75.0   75.0   37.5\n",
      "1    80.0   80.0   40.0\n",
      "2   100.0  100.0   50.0\n",
      "3   150.0  150.0   75.0\n",
      "4   180.0  180.0   90.0\n",
      "5   200.0  200.0  100.0\n",
      "6   250.0  250.0  125.0\n",
      "7   300.0  300.0  150.0\n",
      "8   400.0  400.0  200.0\n",
      "9   500.0  500.0  250.0\n",
      "10  750.0  750.0  375.0\n",
      "\n",
      "All Focal Lengths:\n",
      "        75     80     100     150     180     200     250     300     400  \\\n",
      "75   37.50  38.71  42.86   50.00   52.94   54.55   57.69   60.00   63.16   \n",
      "80   38.71  40.00  44.44   52.17   55.38   57.14   60.61   63.16   66.67   \n",
      "100  42.86  44.44  50.00   60.00   64.29   66.67   71.43   75.00   80.00   \n",
      "150  50.00  52.17  60.00   75.00   81.82   85.71   93.75  100.00  109.09   \n",
      "180  52.94  55.38  64.29   81.82   90.00   94.74  104.65  112.50  124.14   \n",
      "200  54.55  57.14  66.67   85.71   94.74  100.00  111.11  120.00  133.33   \n",
      "250  57.69  60.61  71.43   93.75  104.65  111.11  125.00  136.36  153.85   \n",
      "300  60.00  63.16  75.00  100.00  112.50  120.00  136.36  150.00  171.43   \n",
      "400  63.16  66.67  80.00  109.09  124.14  133.33  153.85  171.43  200.00   \n",
      "500  65.22  68.97  83.33  115.38  132.35  142.86  166.67  187.50  222.22   \n",
      "750  68.18  72.29  88.24  125.00  145.16  157.89  187.50  214.29  260.87   \n",
      "\n",
      "        500     750  \n",
      "75    65.22   68.18  \n",
      "80    68.97   72.29  \n",
      "100   83.33   88.24  \n",
      "150  115.38  125.00  \n",
      "180  132.35  145.16  \n",
      "200  142.86  157.89  \n",
      "250  166.67  187.50  \n",
      "300  187.50  214.29  \n",
      "400  222.22  260.87  \n",
      "500  250.00  300.00  \n",
      "750  300.00  375.00  \n"
     ]
    }
   ],
   "source": [
    "import numpy as np\n",
    "import pandas as pd\n",
    "# f1 is all of the stock optics from thorlabs\n",
    "f1 = np.array([75,80,100,150,180,200,250,300,400,500,750])\n",
    "f2 = f1\n",
    "d = 0\n",
    "\n",
    "bfl = f2*(d-f1)/(d-(f1+f2))\n",
    "\n",
    "efl = [f2*(d-f1)/(d-(f1+f2)) for f1 in f1]\n",
    "df_m = pd.DataFrame(np.column_stack((f1, f2, bfl)), columns=['L1', 'L2', 'EFD'])\n",
    "print(f'Matched Focal Lengths:\\n{df_m}')\n",
    "\n",
    "df_a = pd.DataFrame(np.round(efl,2),columns=f1,index=f2)\n",
    "print(f'\\nAll Focal Lengths:\\n {df_a}')"
   ]
  },
  {
   "cell_type": "markdown",
   "metadata": {},
   "source": [
    "These serve as the sanity check I needed to add a wrinkle to the smooth brain"
   ]
  },
  {
   "cell_type": "code",
   "execution_count": null,
   "metadata": {},
   "outputs": [],
   "source": [
    "# 100x Silicon Oil (1.4) and 40x Air Objectives into snouty Original Snouty\n",
    "m1 = 100\n",
    "t1 = 200\n",
    "s1 = 70\n",
    "s2 = 39\n",
    "t2 = 200\n",
    "m2 = 40\n",
    "\n",
    "magnification = (t1/s1) * (s2/t2) / (m2/m1)\n",
    "print('System Magnification: ', magnification)\n"
   ]
  },
  {
   "cell_type": "code",
   "execution_count": null,
   "metadata": {},
   "outputs": [],
   "source": [
    "# 100x Si Oil Objective and 40x Air into Snouty, with RI = 1.40 (SiO matched)\n",
    "# https://arxiv.org/pdf/2208.13854.pdf\n",
    "m1 = 100\n",
    "t1 = 200\n",
    "s1 = 70\n",
    "s2 = 70\n",
    "t2 = 357\n",
    "m2 = 40\n",
    "RI = 1.40\n",
    "\n",
    "H = (m1*s2*t1)/(m2*s1*t2)\n",
    "tl2 = (m1*s2*t1)/(RI*m2*s1)\n",
    "print('System Magnification: ', H)\n",
    "print(\"Need TL_2= \", tl2)"
   ]
  },
  {
   "cell_type": "code",
   "execution_count": null,
   "metadata": {},
   "outputs": [],
   "source": [
    "# 100x Si Oil Objective and 40x Air into Snouty, with RI = 1.40 (SiO matched)\n",
    "m1 = 100\n",
    "t1 = 200\n",
    "s1 = 100\n",
    "s2 = 100\n",
    "t2 = 357\n",
    "m2 = 40\n",
    "\n",
    "magnification = (t1/s1) * (s2/t2) / (m2/m1)\n",
    "print('System Magnification: ', magnification)\n"
   ]
  },
  {
   "cell_type": "code",
   "execution_count": null,
   "metadata": {},
   "outputs": [],
   "source": [
    "# HT Snouty\n",
    "# 40x Air Objective and 20x Air into Snouty, with RI = 1.33 (Water matched)\n",
    "m1 = 40\n",
    "t1 = 200\n",
    "s1 = 100\n",
    "s2 = 100\n",
    "t2 = 300\n",
    "m2 = 20\n",
    "\n",
    "magnification = (t1/s1) * (s2/t2) / (m2/m1)\n",
    "print('System Magnification: ', magnification)"
   ]
  },
  {
   "cell_type": "code",
   "execution_count": null,
   "metadata": {},
   "outputs": [],
   "source": [
    "#HT-Snouty V2\n",
    "# 40x Air Objectives into Snouty, with RI = 1.33 (Water matched)\n",
    "m1 = 40\n",
    "t1 = 200\n",
    "s1 = 100\n",
    "s2 = 100\n",
    "t2 = 150\n",
    "m2 = 40\n",
    "\n",
    "magnification = (t1/s1) * (s2/t2) / (m2/m1)\n",
    "print('System Magnification: ', magnification)\n"
   ]
  },
  {
   "cell_type": "code",
   "execution_count": 45,
   "metadata": {},
   "outputs": [
    {
     "name": "stdout",
     "output_type": "stream",
     "text": [
      "System Magnification:  1.2\n"
     ]
    }
   ],
   "source": [
    "#SCAPE2.0 configuration\n",
    "m1 = 20\n",
    "tl1 = 150\n",
    "sl1 = 75\n",
    "sl2 = 60\n",
    "tl2 = 100\n",
    "m2 = 20\n",
    "\n",
    "magnification = (tl1/sl1) * (sl2/tl2) / (m2/m1)\n",
    "\n",
    "print('System Magnification: ', magnification)"
   ]
  },
  {
   "cell_type": "code",
   "execution_count": 50,
   "metadata": {},
   "outputs": [
    {
     "name": "stdout",
     "output_type": "stream",
     "text": [
      "System Magnification:  1.0\n"
     ]
    }
   ],
   "source": [
    "# Alternative Configuration for SCAPE:\n",
    "\n",
    "m1=20\n",
    "t1=150\n",
    "s1=75\n",
    "s2=75\n",
    "t2=150\n",
    "m2=20\n",
    "\n",
    "magnification = (t1/s1) * (s2/t2) / (m2/m1)\n",
    "print('System Magnification: ', magnification)\n"
   ]
  },
  {
   "cell_type": "code",
   "execution_count": 49,
   "metadata": {},
   "outputs": [
    {
     "name": "stdout",
     "output_type": "stream",
     "text": [
      "System Magnification:  1.3333333333333333\n"
     ]
    }
   ],
   "source": [
    "# Alternative Configuration (O1 is water O2 is air)\n",
    "m1 = 20\n",
    "t1 = 200\n",
    "s1 = 75\n",
    "s2 = 75\n",
    "t2 = 150\n",
    "m2 = 20\n",
    "\n",
    "magnification = (t1/s1) * (s2/t2) / (m2/m1)\n",
    "print('System Magnification: ', magnification)\n"
   ]
  },
  {
   "attachments": {},
   "cell_type": "markdown",
   "metadata": {},
   "source": [
    "## Plossl-style arrangement to make compound lens (d=0)"
   ]
  },
  {
   "cell_type": "code",
   "execution_count": 85,
   "metadata": {},
   "outputs": [
    {
     "name": "stdout",
     "output_type": "stream",
     "text": [
      "Matched Focal Lengths:\n",
      "       L1     L2    EFD\n",
      "0    75.0   75.0   37.5\n",
      "1    80.0   80.0   40.0\n",
      "2   100.0  100.0   50.0\n",
      "3   150.0  150.0   75.0\n",
      "4   180.0  180.0   90.0\n",
      "5   200.0  200.0  100.0\n",
      "6   250.0  250.0  125.0\n",
      "7   300.0  300.0  150.0\n",
      "8   400.0  400.0  200.0\n",
      "9   500.0  500.0  250.0\n",
      "10  750.0  750.0  375.0\n",
      "\n",
      "All Focal Lengths:\n",
      "        75     80     100     150     180     200     250     300     400  \\\n",
      "75   37.50  38.71  42.86   50.00   52.94   54.55   57.69   60.00   63.16   \n",
      "80   38.71  40.00  44.44   52.17   55.38   57.14   60.61   63.16   66.67   \n",
      "100  42.86  44.44  50.00   60.00   64.29   66.67   71.43   75.00   80.00   \n",
      "150  50.00  52.17  60.00   75.00   81.82   85.71   93.75  100.00  109.09   \n",
      "180  52.94  55.38  64.29   81.82   90.00   94.74  104.65  112.50  124.14   \n",
      "200  54.55  57.14  66.67   85.71   94.74  100.00  111.11  120.00  133.33   \n",
      "250  57.69  60.61  71.43   93.75  104.65  111.11  125.00  136.36  153.85   \n",
      "300  60.00  63.16  75.00  100.00  112.50  120.00  136.36  150.00  171.43   \n",
      "400  63.16  66.67  80.00  109.09  124.14  133.33  153.85  171.43  200.00   \n",
      "500  65.22  68.97  83.33  115.38  132.35  142.86  166.67  187.50  222.22   \n",
      "750  68.18  72.29  88.24  125.00  145.16  157.89  187.50  214.29  260.87   \n",
      "\n",
      "        500     750  \n",
      "75    65.22   68.18  \n",
      "80    68.97   72.29  \n",
      "100   83.33   88.24  \n",
      "150  115.38  125.00  \n",
      "180  132.35  145.16  \n",
      "200  142.86  157.89  \n",
      "250  166.67  187.50  \n",
      "300  187.50  214.29  \n",
      "400  222.22  260.87  \n",
      "500  250.00  300.00  \n",
      "750  300.00  375.00  \n"
     ]
    }
   ],
   "source": [
    "import numpy as np\n",
    "import pandas as pd\n",
    "# f1 is all of the stock optics from thorlabs\n",
    "f1 = np.array([75,80,100,150,180,200,250,300,400,500,750])\n",
    "f2 = f1\n",
    "d = 0\n",
    "\n",
    "bfl = f2*(d-f1)/(d-(f1+f2))\n",
    "\n",
    "efl = [f2*(d-f1)/(d-(f1+f2)) for f1 in f1]\n",
    "df_m = pd.DataFrame(np.column_stack((f1, f2, bfl)), columns=['L1', 'L2', 'EFD'])\n",
    "print(f'Matched Focal Lengths:\\n{df_m}')\n",
    "\n",
    "df_a = pd.DataFrame(np.round(efl,2),columns=f1,index=f2)\n",
    "print(f'\\nAll Focal Lengths:\\n {df_a}')\n"
   ]
  },
  {
   "attachments": {},
   "cell_type": "markdown",
   "metadata": {},
   "source": [
    "Plossl-type with 20 mm separation. Another sanity check"
   ]
  },
  {
   "cell_type": "code",
   "execution_count": 86,
   "metadata": {},
   "outputs": [
    {
     "name": "stdout",
     "output_type": "stream",
     "text": [
      "\n",
      "            75         80         100         150         180         200  \\\n",
      "75   31.730769  32.592593  35.483871   40.243902   42.127660   43.137255   \n",
      "80   33.333333  34.285714  37.500000   42.857143   45.000000   46.153846   \n",
      "100  38.709677  40.000000  44.444444   52.173913   55.384615   57.142857   \n",
      "150  47.560976  49.523810  56.521739   69.642857   75.483871   78.787879   \n",
      "180  51.063830  53.333333  61.538462   77.419355   84.705882   88.888889   \n",
      "200  52.941176  55.384615  64.285714   81.818182   90.000000   94.736842   \n",
      "250  56.557377  59.354839  69.696970   90.789474  100.975610  106.976744   \n",
      "300  59.154930  62.222222  73.684211   97.674419  109.565217  116.666667   \n",
      "400  62.637363  66.086957  79.166667  107.547170  122.142857  131.034483   \n",
      "500  64.864865  68.571429  82.758621  114.285714  130.909091  141.176471   \n",
      "750  68.012422  72.098765  87.951807  124.431818  144.395604  156.989247   \n",
      "\n",
      "            250         300         400         500         750  \n",
      "75    45.081967   46.478873   48.351648   49.549550   51.242236  \n",
      "80    48.387097   50.000000   52.173913   53.571429   55.555556  \n",
      "100   60.606061   63.157895   66.666667   68.965517   72.289157  \n",
      "150   85.526316   90.697674   98.113208  103.174603  110.795455  \n",
      "180   97.560976  104.347826  114.285714  121.212121  131.868132  \n",
      "200  104.651163  112.500000  124.137931  132.352941  145.161290  \n",
      "250  119.791667  130.188679  146.031746  157.534247  176.020408  \n",
      "300  132.075472  144.827586  164.705882  179.487179  203.883495  \n",
      "400  150.793651  167.647059  194.871795  215.909091  252.212389  \n",
      "500  164.383562  184.615385  218.181818  244.897959  292.682927  \n",
      "750  186.224490  212.621359  258.407080  296.747967  369.932432  \n"
     ]
    }
   ],
   "source": [
    "d=20\n",
    "efl = [f2*(d-f1)/(d-(f1+f2)) for f1 in f1]\n",
    "df = pd.DataFrame(efl, columns=f1, index=f2)\n",
    "print('\\n', df)"
   ]
  },
  {
   "cell_type": "code",
   "execution_count": 90,
   "metadata": {},
   "outputs": [
    {
     "name": "stdout",
     "output_type": "stream",
     "text": [
      "Closest EFL: 375.0 Separation distance: 0.0 Back Focal Length 375.0\n"
     ]
    },
    {
     "data": {
      "image/png": "[encoded data removed]",
      "text/plain": [
       "<Figure size 640x480 with 1 Axes>"
      ]
     },
     "metadata": {},
     "output_type": "display_data"
    }
   ],
   "source": [
    "import matplotlib.pyplot as plt\n",
    "import pandas as pd\n",
    "import numpy as np\n",
    "f1 = 750\n",
    "f2 = 750\n",
    "desired_efl = 375\n",
    "\n",
    "def calculate_efl(f1, f2, desired_efl):\n",
    "    d = np.linspace(0, f2, 1001)\n",
    "\n",
    "    bfl = f2*(d-f1)/(d-(f1+f2))\n",
    "    efl = bfl+d\n",
    "\n",
    "    closest = efl.flat[np.abs(efl - desired_efl).argmin()]\n",
    "    idx = int(np.where(efl == closest)[0])\n",
    "    opt_d = d[idx]\n",
    "    opt_bfl = bfl[idx]\n",
    "\n",
    "    print(f'Closest EFL: {closest} Separation distance: {opt_d} Back Focal Length { opt_bfl}')\n",
    "    df_m = pd.DataFrame({\"efl\":efl,'distance':d})\n",
    "\n",
    "    df_m.plot(x='distance',y='efl',title='EFL vs Separation distance',xlabel='Separation Distance (mm)',ylabel='Effective Focal Length (mm)',legend=False)\n",
    "\n",
    "calculate_efl(f1,f2,desired_efl)\n"
   ]
  },
  {
   "cell_type": "code",
   "execution_count": 91,
   "metadata": {},
   "outputs": [
    {
     "name": "stdout",
     "output_type": "stream",
     "text": [
      "Closest EFL: 375.0 Separation distance: 0.0 Back Focal Length 375.0\n"
     ]
    },
    {
     "data": {
      "image/png": "[encoded data removed]",
      "text/plain": [
       "<Figure size 640x480 with 1 Axes>"
      ]
     },
     "metadata": {},
     "output_type": "display_data"
    }
   ],
   "source": [
    "#Can make a simple Plossl lens to generate a 375mm tubelens.\n",
    "calculate_efl(750, 750, 375)\n"
   ]
  }
 ],
 "metadata": {
  "kernelspec": {
   "display_name": "Python 3",
   "language": "python",
   "name": "python3"
  },
  "language_info": {
   "codemirror_mode": {
    "name": "ipython",
    "version": 3
   },
   "file_extension": ".py",
   "mimetype": "text/x-python",
   "name": "python",
   "nbconvert_exporter": "python",
   "pygments_lexer": "ipython3",
   "version": "3.9.16"
  },
  "orig_nbformat": 4
 },
 "nbformat": 4,
 "nbformat_minor": 2
}
